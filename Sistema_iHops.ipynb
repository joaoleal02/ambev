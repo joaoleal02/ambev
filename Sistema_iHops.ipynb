{
  "nbformat": 4,
  "nbformat_minor": 5,
  "metadata": {
    "kernelspec": {
      "display_name": "Python 3",
      "language": "python",
      "name": "python3"
    },
    "language_info": {
      "codemirror_mode": {
        "name": "ipython",
        "version": 3
      },
      "file_extension": ".py",
      "mimetype": "text/x-python",
      "name": "python",
      "nbconvert_exporter": "python",
      "pygments_lexer": "ipython3",
      "version": "3.8.8"
    },
    "colab": {
      "name": "ambev_1_joao.ipynb",
      "provenance": [],
      "include_colab_link": true
    }
  },
  "cells": [
    {
      "cell_type": "markdown",
      "metadata": {
        "id": "view-in-github",
        "colab_type": "text"
      },
      "source": [
        "<a href=\"https://colab.research.google.com/github/joaoleal02/ambev/blob/main/Sistema_iHops.ipynb\" target=\"_parent\"><img src=\"https://colab.research.google.com/assets/colab-badge.svg\" alt=\"Open In Colab\"/></a>"
      ]
    },
    {
      "cell_type": "code",
      "metadata": {
        "id": "fb612e5b"
      },
      "source": [
        "import pandas as pd\n",
        "import datetime\n",
        "import random\n",
        "from sklearn.cluster import KMeans\n",
        "from sklearn.preprocessing import MinMaxScaler\n",
        "from sklearn.metrics import silhouette_samples, silhouette_score\n",
        "import matplotlib.pyplot as plt\n",
        "import matplotlib.cm as cm\n",
        "import numpy as np\n",
        "import matplotlib.style as style\n",
        "import decimal"
      ],
      "id": "fb612e5b",
      "execution_count": 26,
      "outputs": []
    },
    {
      "cell_type": "code",
      "metadata": {
        "id": "oZa9bxYctxX-"
      },
      "source": [
        "#importando a base de dados dos pdvs\n",
        "data_ambev = pd.read_excel('rascunho.xlsx', index_col=None)\n",
        "data_ambev.to_csv('rascunho.csv', encoding='utf-8', index=False)\n",
        "data_ambev['Doc. Date'] = pd.to_datetime(data_ambev['Doc. Date'], format='%d/%m/%Y')\n",
        "#postal como identificador do pdv\n",
        "postalcode = 83630\n",
        "#83630 é um exemplo de um pdv\n",
        "dados = data_ambev.loc[data_ambev['Postal Code'] == postalcode]"
      ],
      "id": "oZa9bxYctxX-",
      "execution_count": 27,
      "outputs": []
    },
    {
      "cell_type": "code",
      "metadata": {
        "id": "3d28ffbc"
      },
      "source": [
        "beer_user = dados.iloc[0]['Subrand']\n",
        "quantidade_comprada = (dados.iloc[0]['HL delivered'])*100\n",
        "taxa_recomendacao = 0.1\n",
        "quantidade_recomendada = quantidade_comprada * taxa_recomendacao "
      ],
      "id": "3d28ffbc",
      "execution_count": 28,
      "outputs": []
    },
    {
      "cell_type": "code",
      "metadata": {
        "id": "fde6f118"
      },
      "source": [
        "#importando base de dados com as variaveis da cerveja\n",
        "df = pd.read_csv(\"MLiHops.csv\")"
      ],
      "id": "fde6f118",
      "execution_count": 29,
      "outputs": []
    },
    {
      "cell_type": "code",
      "metadata": {
        "id": "69bec5b6"
      },
      "source": [
        "lista_cervas = []\n",
        "\n",
        "#dicionario com as informacoes de cada cerveja de acordo com seu tipo\n",
        "dicRecomendacao = {\n",
        "\n",
        "  \"Harmonizacao\": {\n",
        "  44 : \"AMERICAN PALE ALE - Carnes grelhadas e saladas cítricas\",\n",
        "  2: \"PALE LAGER - Hamburger, carnes vermelha e petiscos\",\n",
        "  43: \"BROWN ALE - Carnes e petiscos\",\n",
        "  40: \"WITBIER - Saladas, frutas do mar e comidas leves\",\n",
        "  42: \"TRIPEL - Massas e frutos do mar\",\n",
        "  41: \"BLONDE - Petiscos e frutos do mar\",\n",
        "  46: \"STRONG - Frutos do mar e massas\",\n",
        "  45: \"INDIAN PALE ALE - Queijo, carne vermelha, hamburger e petiscos\",\n",
        "  20: \"FRUIT BEER - Sobremesa\",\n",
        "  },\n",
        "  \"Temperatura\": {\n",
        "  44: [8, 12],\n",
        "  2: [0, 4],\n",
        "  43: [8, 12],\n",
        "  40: [4, 7],\n",
        "  42: [4, 7],\n",
        "  41: [2, 5],\n",
        "  46: [10, 12],\n",
        "  45: [8, 12],\n",
        "  20: [7, 10],\n",
        "  }\n",
        "}\n",
        "\n",
        "for i in range(len(df)):  #itera sobre as variaveis e adiciona na lista_cervas\n",
        "\n",
        "    temp = []\n",
        "    temp.clear()\n",
        "\n",
        "    p1 = df.iloc[i]['ibu']\n",
        "    temp.append(p1)\n",
        "    p2 = df.iloc[i]['abv (%)']\n",
        "    temp.append(p2)\n",
        "    p3 = df.iloc[i]['corpo']\n",
        "    temp.append(p3)\n",
        "    p4 = df.iloc[i]['aroma']\n",
        "    temp.append(p4)\n",
        "    p5 = df.iloc[i]['tipo']\n",
        "    temp.append(p5)\n",
        "\n",
        "    lista_cervas.append(temp)\n",
        "    \n",
        "X = np.array(lista_cervas) #transforma a lista_cervas em numpy\n",
        "mesma_escala = MinMaxScaler() #transforma os valores na mesma escala, para ter os mesmo peso\n",
        "mesma_escala.fit(X)\n",
        "data_transformed = mesma_escala.transform(X)"
      ],
      "id": "69bec5b6",
      "execution_count": 30,
      "outputs": []
    },
    {
      "cell_type": "code",
      "metadata": {
        "colab": {
          "base_uri": "https://localhost:8080/",
          "height": 372
        },
        "id": "i0m6kamBMdJn",
        "outputId": "5f2ed943-4a7c-49c9-db69-ea4b429d8fa2"
      },
      "source": [
        "silhouette_avg_n_clusters = []\n",
        "\n",
        "def range_clusters(n): #essa funcao acha o range que a gente precisa para tentar achar o numero de clusters\n",
        "  lista = []\n",
        "  a = 0\n",
        "  c = 0\n",
        "  while c < len(n)//2:\n",
        "    a = c\n",
        "    c += 1\n",
        "    if a > 2:\n",
        "      lista.append(a)\n",
        "  return lista\n",
        "\n",
        "lista = range_clusters(lista_cervas)\n",
        "posicao_maior = 0\n",
        "maior = 0\n",
        "for n_clusters in lista: #esse for loop acha o numero de clusters para nosso KMeans\n",
        "\n",
        "    clusterer = KMeans(n_clusters=n_clusters, random_state=42)\n",
        "    cluster_labels = clusterer.fit_predict(data_transformed)\n",
        "    silhouette_avg = silhouette_score(data_transformed, cluster_labels)\n",
        "    print(\"For n_clusters =\", n_clusters,\n",
        "          \"The average silhouette_score is :\", silhouette_avg)\n",
        "    if silhouette_avg > maior:\n",
        "      posicao_maior = n_clusters\n",
        "      maior = silhouette_avg\n",
        "    silhouette_avg_n_clusters.append(silhouette_avg)\n",
        "    sample_silhouette_values = silhouette_samples(data_transformed, cluster_labels)\n",
        "\n",
        "plt.show()\n",
        "\n",
        "style.use(\"fivethirtyeight\")\n",
        "plt.plot(lista, silhouette_avg_n_clusters)\n",
        "plt.xlabel(\"Number of Clusters (k)\")\n",
        "plt.ylabel(\"silhouette score\")\n",
        "plt.show()\n",
        "#O maior silhouette score mostra o numero de clusters ideal, e o grafico abaixo\n",
        "#ilustra isso de uma forma mais organisada, onde 5 é o pico do grafico linha"
      ],
      "id": "i0m6kamBMdJn",
      "execution_count": 31,
      "outputs": [
        {
          "output_type": "stream",
          "name": "stdout",
          "text": [
            "For n_clusters = 3 The average silhouette_score is : 0.26642470401035145\n",
            "For n_clusters = 4 The average silhouette_score is : 0.293743712636453\n",
            "For n_clusters = 5 The average silhouette_score is : 0.31348570018263117\n",
            "For n_clusters = 6 The average silhouette_score is : 0.29355226266240797\n"
          ]
        },
        {
          "output_type": "display_data",
          "data": {
            "image/png": "[encoded data removed]",
            "text/plain": [
              "<Figure size 432x288 with 1 Axes>"
            ]
          },
          "metadata": {}
        }
      ]
    },
    {
      "cell_type": "code",
      "metadata": {
        "id": "14bc69d4"
      },
      "source": [
        "#bota cada cerveja e suas variaveis em clusters das mais similares\n",
        "kmeans = KMeans(n_clusters=posicao_maior, random_state=0).fit(X)\n",
        "tips = kmeans.labels_"
      ],
      "id": "14bc69d4",
      "execution_count": 32,
      "outputs": []
    },
    {
      "cell_type": "code",
      "metadata": {
        "id": "bf5ca937"
      },
      "source": [
        "#busca uma cerveja e retorna a posicao dela no array\n",
        "def busca(array,beer):\n",
        "    for i,el in enumerate(array):\n",
        "        if el==beer:\n",
        "            return i\n",
        "    return None\n",
        "\n",
        "def arrendondar(x):\n",
        "    return int(decimal.Decimal(x).quantize(0, decimal.ROUND_HALF_UP))\n",
        "\n",
        "#recebe uma lista, soma os elementos e divide pela len (achar a media)\n",
        "#Retorna None em caso de uma lista vazia (divisor 0)\n",
        "def media_array(array):\n",
        "  if len(array)==0:\n",
        "    return None\n",
        "  soma = 0\n",
        "  for i in array:\n",
        "    soma += i\n",
        "  return(soma/len(array))\n",
        "\n",
        "#Mostra o indice da ultima vez que uma cerveja foi comprada\n",
        "def ultimaOcorrencia(df, cerveja):\n",
        "  array = df[\"Subrand\"].to_numpy()\n",
        "  cont = 0\n",
        "  while cont < len(array):\n",
        "    if array[cont] == cerveja:\n",
        "      return cont\n",
        "\n",
        "    cont +=1\n",
        "  return None\n",
        "\n",
        "#calcula o preco medio a partir do tipo do container\n",
        "def precoMedio_container(cerveja,conteiner,data_ambev,contador,quantidade_recomendada):\n",
        "\n",
        "  quantidade_container = 0\n",
        "  #filtra o dataframe\n",
        "  data_ambev.sort_values(by=['Doc. Date'], inplace = True, ascending = False)\n",
        "  df = data_ambev.loc[data_ambev['Unidade do container']==conteiner]\n",
        "  df = df.loc[df[\"Subrand\"] == cerveja]\n",
        "  litros = df.iloc[0]['Litragem do container']\n",
        "  ult = ultimaOcorrencia(df, cerveja)\n",
        "  ult_data = df.iloc[ult][\"Doc. Date\"]\n",
        "  #pega a faixa de tempo de 30 dias a partir da ultima ocorrencia\n",
        "  dianovo = ult_data.day\n",
        "  mesnovo = ult_data.month\n",
        "  anonovo = ult_data.year\n",
        "  primeirodia = dianovo\n",
        "  primeiromes = mesnovo - 1\n",
        "  primeiroano = anonovo\n",
        "  if primeiromes == 0:\n",
        "    primeiromes = 12\n",
        "    primeiroano = anonovo - 1\n",
        "  df = df.loc[(df['Doc. Date'] >= f'{primeirodia}/{primeiromes}/{primeiroano}') & (df['Doc. Date'] <= f'{dianovo}/{mesnovo}/{anonovo}')]\n",
        "  data_array = df['Preco/L'].to_numpy()\n",
        "  media = media_array(data_array)\n",
        "  if media != None:\n",
        "      if contador == 0:\n",
        "          print(\"Recomendamos que voce compre %.2f litros dessa cerveja:\"%(quantidade_recomendada))\n",
        "      \n",
        "      quantidade_container = arrendondar(quantidade_recomendada/litros)\n",
        "      print(\"Opção %d: \\n%d container(s) de %.2f L com %d unidade(s) cada,\\ncom preco media do litro de $%.2f\\nDando um total de $%.2f\"\n",
        "            %((contador+1),quantidade_container,litros,conteiner, media, quantidade_container * litros * media))\n",
        "  return\n",
        "\n",
        "#Inicializa a funcao do precoMedio, que calcula o preco medio por litro\n",
        "def precoMedio(cerveja,quantidade_recomendada, data_ambev):\n",
        "\n",
        "    filtered_df = data_ambev.loc[data_ambev[\"Subrand\"] == cerveja].copy()\n",
        "    array_available_conteiners = filtered_df['Unidade do container'].unique()\n",
        "    num_conteiner = filtered_df['Unidade do container'].nunique()\n",
        "    c = 0\n",
        "    while c<num_conteiner:\n",
        "        precoMedio_container(cerveja,array_available_conteiners[c], data_ambev,c,quantidade_recomendada)\n",
        "        c+=1\n",
        "\n",
        "    return\n"
      ],
      "id": "bf5ca937",
      "execution_count": 33,
      "outputs": []
    },
    {
      "cell_type": "code",
      "metadata": {
        "id": "ddfc8031",
        "colab": {
          "base_uri": "https://localhost:8080/"
        },
        "outputId": "65ce2bc7-353d-4223-e035-42f91541761a"
      },
      "source": [
        "#converte coluna em numpy array\n",
        "beer_array = df['subrand'].to_numpy()\n",
        "tipo_array = df[\"tipo\"].to_numpy()\n",
        "#conversao do KMeans em cerveja\n",
        "beer_index = busca(beer_array, beer_user)\n",
        "beer_variaveis = lista_cervas[beer_index]\n",
        "prediction = kmeans.predict([beer_variaveis])\n",
        "prediction_index = np.where(tips == prediction)\n",
        "#Iniciliazação das variaveis\n",
        "beer_recommended = \"\"\n",
        "cerveja_escolhida = []\n",
        "print_out = \"\"\n",
        "saida = False\n",
        "#loop para as cervejas recomendadas\n",
        "print(\"------------------------------------------------------------------\")\n",
        "for i in (prediction_index):\n",
        "  for n in range(0, 1):\n",
        "    new_array = np.delete(beer_array[i], np.where(beer_array[i] == beer_user))\n",
        "    if len(new_array) >= 1:\n",
        "      beer_recommended = random.choice(new_array)\n",
        "      if beer_recommended != beer_user:\n",
        "        saida = True\n",
        "        cerveja_escolhida.append(beer_recommended)\n",
        "        tipo_index = i[n]\n",
        "        tipo_real = tipo_array[tipo_index]\n",
        "        print(\"A cerveja recomendada é: \", beer_recommended)\n",
        "        print_out = dicRecomendacao[\"Harmonizacao\"][tipo_real]\n",
        "        print(print_out)\n",
        "        print_out = dicRecomendacao[\"Temperatura\"][tipo_real]\n",
        "        print(\"A temperatura ideal é entre: %d°C e %d°C\\n\" %(print_out[0],print_out[1]))\n",
        "        precoMedio(beer_recommended,quantidade_recomendada, data_ambev)\n",
        "        print(\"------------------------------------------------------------------\")\n",
        "    \n",
        "#caso nao tenha cerveja recomendada\n",
        "if saida == False:\n",
        "  print(\"Nao temos recomendacao\")\n",
        "  print(\"------------------------------------------------------------------\")"
      ],
      "id": "ddfc8031",
      "execution_count": 34,
      "outputs": [
        {
          "output_type": "stream",
          "name": "stdout",
          "text": [
            "------------------------------------------------------------------\n",
            "A cerveja recomendada é:  LEFFE LA LEGERE\n",
            "PALE LAGER - Hamburger, carnes vermelha e petiscos\n",
            "A temperatura ideal é entre: 0°C e 4°C\n",
            "\n",
            "Recomendamos que voce compre 42.00 litros dessa cerveja:\n",
            "Opção 1: \n",
            "7 container(s) de 6.00 L com 1 unidade(s) cada,\n",
            "com preco media do litro de $2.71\n",
            "Dando um total de $113.81\n",
            "------------------------------------------------------------------\n"
          ]
        }
      ]
    }
  ]
}